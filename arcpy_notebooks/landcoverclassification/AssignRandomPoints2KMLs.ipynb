{
 "cells": [
  {
   "cell_type": "code",
   "execution_count": 19,
   "metadata": {},
   "outputs": [
    {
     "name": "stdout",
     "output_type": "stream",
     "text": [
      "C:/workspace\n"
     ]
    }
   ],
   "source": [
    "# setup work space\n",
    "import arcpy\n",
    "\n",
    "# Set environment settings\n",
    "arcpy.env.workspace = \"C:/workspace/\"\n",
    "print(arcpy.env.workspace)\n",
    "outfolder = \"C:/workspace/myproject/MyProject/Outputs/\"\n"
   ]
  },
  {
   "cell_type": "code",
   "execution_count": 20,
   "metadata": {},
   "outputs": [
    {
     "name": "stdout",
     "output_type": "stream",
     "text": [
      "VT_Data_-_County_Boundaries/VT_Data_-_County_Boundaries.shp\n"
     ]
    }
   ],
   "source": [
    "# declare function arguments\n",
    "infolder = \"VT_Data_-_County_Boundaries/\"\n",
    "infeatures = \"VT_Data_-_County_Boundaries.shp\"\n",
    "inpath = infolder + infeatures\n",
    "print(inpath)\n",
    "outfeatures = \"Dissolved.shp\"\n",
    "outpath = outfolder + outfeatures"
   ]
  },
  {
   "cell_type": "code",
   "execution_count": 21,
   "metadata": {
    "scrolled": false
   },
   "outputs": [
    {
     "data": {
      "text/html": [
       "<h2>Output</h2>C:\\workspace\\myproject\\MyProject\\Outputs\\Dissolved.shp<h2>Messages</h2>Start Time: Wednesday, February 24, 2021 10:59:17 AM<br/>Dissolving...<br/>Succeeded at Wednesday, February 24, 2021 10:59:17 AM (Elapsed Time: 0.32 seconds)<br/><style>.rendered_html td, .rendered_html th {text-align: left;}.rendered_html tbody {border: 1px solid black;}</style>"
      ],
      "text/plain": [
       "<Result 'C:\\\\workspace\\\\myproject\\\\MyProject\\\\Outputs\\\\Dissolved.shp'>"
      ]
     },
     "execution_count": 21,
     "metadata": {},
     "output_type": "execute_result"
    }
   ],
   "source": [
    "# run dissolve function\n",
    "arcpy.Dissolve_management (inpath, outpath)"
   ]
  },
  {
   "cell_type": "code",
   "execution_count": 22,
   "metadata": {},
   "outputs": [
    {
     "name": "stdout",
     "output_type": "stream",
     "text": [
      "C:/workspace/myproject/MyProject/Outputs/Dissolved.shp\n"
     ]
    }
   ],
   "source": [
    "print(outpath)"
   ]
  },
  {
   "cell_type": "code",
   "execution_count": 23,
   "metadata": {},
   "outputs": [
    {
     "data": {
      "text/html": [
       "<h2>Output</h2>C:/workspace/myproject/MyProject/Outputs\\randompoints.shp<h2>Messages</h2>Start Time: Wednesday, February 24, 2021 11:12:44 AM<br/>Succeeded at Wednesday, February 24, 2021 11:12:44 AM (Elapsed Time: 0.45 seconds)<br/><style>.rendered_html td, .rendered_html th {text-align: left;}.rendered_html tbody {border: 1px solid black;}</style>"
      ],
      "text/plain": [
       "<Result 'C:/workspace/myproject/MyProject/Outputs\\\\randompoints.shp'>"
      ]
     },
     "execution_count": 23,
     "metadata": {},
     "output_type": "execute_result"
    }
   ],
   "source": [
    "# create random points inside polygon\n",
    "infeature = outpath\n",
    "nstudents = 71\n",
    "npoints = nstudents * 10\n",
    "mindistance = 100\n",
    "arcpy.management.CreateRandomPoints(out_path=outfolder, \n",
    "                                    out_name=\"randompoints.shp\", \n",
    "                                    constraining_feature_class=infeature, \n",
    "                     \n",
    "                                    number_of_points_or_field=npoints, \n",
    "                                    minimum_allowed_distance= mindistance) \n",
    "                                \n",
    "                               "
   ]
  },
  {
   "cell_type": "code",
   "execution_count": 25,
   "metadata": {},
   "outputs": [
    {
     "data": {
      "text/plain": [
       "<geoprocessing server result object object at 0x000001ED1E5B6AA8>"
      ]
     },
     "execution_count": 25,
     "metadata": {},
     "output_type": "execute_result"
    }
   ],
   "source": [
    "# extract values at points \n",
    "infile = \"C:/workspace/geodata/geodata/LandCover/LandLandcov_BaseLC2016/LandLandcov_BaseLC2016.tif\"\n",
    "inpoints = outfolder + \"randompoints.shp\"\n",
    "arcpy.sa.ExtractMultiValuesToPoints(in_point_features= inpoints, \n",
    "                           in_rasters= infile) \n",
    "                       "
   ]
  },
  {
   "cell_type": "code",
   "execution_count": null,
   "metadata": {},
   "outputs": [],
   "source": []
  },
  {
   "cell_type": "code",
   "execution_count": null,
   "metadata": {},
   "outputs": [],
   "source": []
  }
 ],
 "metadata": {
  "kernelspec": {
   "display_name": "ArcGISPro",
   "language": "Python",
   "name": "python3"
  },
  "language_info": {
   "file_extension": ".py",
   "name": "python",
   "version": "3"
  }
 },
 "nbformat": 4,
 "nbformat_minor": 2
}
