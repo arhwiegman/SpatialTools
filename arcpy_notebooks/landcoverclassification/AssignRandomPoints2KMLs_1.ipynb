{
 "cells": [
  {
   "cell_type": "code",
   "execution_count": 80,
   "metadata": {},
   "outputs": [
    {
     "name": "stdout",
     "output_type": "stream",
     "text": [
      "['.backups', '.ipynb_checkpoints', 'AssignRandomPoints2KMLs.ipynb', 'ImportLog', 'Index', 'outputs', 'sites', 'VSWI_Wetlands_Advisory_Layer', 'VSWI_Wetlands_Advisory_Layer.zip', 'VSWI_Wetlands_Class_Layer', 'VSWI_Wetlands_Class_Layer.zip', 'VTWetlands.aprx', 'VTWetlands.aprx.xml', 'VTWetlands.gdb', 'VTWetlands.tbx', 'Wetland_Restoration_Model_Site_Prioritization_Lake_Champlain_2017', 'Wetland_Restoration_Model_Site_Prioritization_Lake_Champlain_2017.zip']\n",
      "C:/Workspace/VTWetlands/VTWetlands\n",
      "C:/Workspace/VTWetlands/VTWetlands/outputs/\n"
     ]
    }
   ],
   "source": [
    "# setup work space\n",
    "import arcpy\n",
    "import os\n",
    "import glob\n",
    "import tempfile\n",
    "# Set environment settings\n",
    "arcpy.env.workspace = \"C:/Workspace/VTWetlands/VTWetlands/\"\n",
    "wd = arcpy.env.workspace + \"/\"\n",
    "print(os.listdir(wd))\n",
    "print(arcpy.env.workspace)\n",
    "outfolder = arcpy.env.workspace + \"/outputs/\"\n",
    "print(outfolder)\n",
    "\n",
    "# random number generator and seed \n",
    "arcpy.env.randomGenerator = \"99 ACM599\"\n",
    "\n",
    "# global parameters\n",
    "nstudents = 71"
   ]
  },
  {
   "cell_type": "code",
   "execution_count": 82,
   "metadata": {},
   "outputs": [
    {
     "name": "stdout",
     "output_type": "stream",
     "text": [
      "C:/Workspace/VTWetlands/VTWetlands/Wetland_Restoration_Model_Site_Prioritization_Lake_Champlain_2017/Wetland_Restoration_Model_Site_Prioritization_Lake_Champlain_2017.shp\n"
     ]
    },
    {
     "ename": "ExecuteError",
     "evalue": "Failed to execute. Parameters are not valid.\nERROR 000725: Output Feature Class: Dataset C:\\Workspace\\VTWetlands\\VTWetlands\\outputs\\Dissolved.shp already exists.\nFailed to execute (Dissolve).\n",
     "output_type": "error",
     "traceback": [
      "\u001b[0;31m---------------------------------------------------------------------------\u001b[0m\n\u001b[0;31mExecuteError\u001b[0m                              Traceback (most recent call last)",
      "In  \u001b[0;34m[82]\u001b[0m:\nLine \u001b[0;34m10\u001b[0m:    arcpy.Dissolve_management (inpath, outpath)\n",
      "File \u001b[0;34mC:\\Users\\Admin\\AppData\\Local\\Programs\\ArcGIS\\Pro\\Resources\\ArcPy\\arcpy\\management.py\u001b[0m, in \u001b[0;32mDissolve\u001b[0m:\nLine \u001b[0;34m6732\u001b[0m:  \u001b[34mraise\u001b[39;49;00m e\n",
      "File \u001b[0;34mC:\\Users\\Admin\\AppData\\Local\\Programs\\ArcGIS\\Pro\\Resources\\ArcPy\\arcpy\\management.py\u001b[0m, in \u001b[0;32mDissolve\u001b[0m:\nLine \u001b[0;34m6729\u001b[0m:  retval = convertArcObjectToPythonObject(gp.Dissolve_management(*gp_fixargs((in_features, out_feature_class, dissolve_field, statistics_fields, multi_part, unsplit_lines), \u001b[34mTrue\u001b[39;49;00m)))\n",
      "File \u001b[0;34mC:\\Users\\Admin\\AppData\\Local\\Programs\\ArcGIS\\Pro\\Resources\\ArcPy\\arcpy\\geoprocessing\\_base.py\u001b[0m, in \u001b[0;32m<lambda>\u001b[0m:\nLine \u001b[0;34m511\u001b[0m:   \u001b[34mreturn\u001b[39;49;00m \u001b[34mlambda\u001b[39;49;00m *args: val(*gp_fixargs(args, \u001b[34mTrue\u001b[39;49;00m))\n",
      "\u001b[0;31mExecuteError\u001b[0m: Failed to execute. Parameters are not valid.\nERROR 000725: Output Feature Class: Dataset C:\\Workspace\\VTWetlands\\VTWetlands\\outputs\\Dissolved.shp already exists.\nFailed to execute (Dissolve).\n\n\u001b[0;31m---------------------------------------------------------------------------\u001b[0m"
     ]
    }
   ],
   "source": [
    "# Generate random points inside dissolved polygon\n",
    "\n",
    "# dissolve polygons of constraining feature\n",
    "infile = \"Wetland_Restoration_Model_Site_Prioritization_Lake_Champlain_2017/Wetland_Restoration_Model_Site_Prioritization_Lake_Champlain_2017.shp\"\n",
    "inpath = wd + infile\n",
    "print(inpath)\n",
    "outfeatures = \"Dissolved.shp\"\n",
    "outpath = outfolder + outfeatures\n",
    "# check if file exists and delete before running script\n",
    "arcpy.Dissolve_management (inpath, outpath)"
   ]
  },
  {
   "cell_type": "code",
   "execution_count": 88,
   "metadata": {},
   "outputs": [
    {
     "data": {
      "text/html": [
       "<h2>Output</h2>C:/Workspace/VTWetlands/VTWetlands/outputs\\dissolved_randompoints.shp<h2>Messages</h2>Start Time: Wednesday, February 24, 2021 2:02:40 PM<br/>Succeeded at Wednesday, February 24, 2021 2:02:43 PM (Elapsed Time: 2.57 seconds)<br/><style>.rendered_html td, .rendered_html th {text-align: left;}.rendered_html tbody {border: 1px solid black;}</style>"
      ],
      "text/plain": [
       "<Result 'C:/Workspace/VTWetlands/VTWetlands/outputs\\\\dissolved_randompoints.shp'>"
      ]
     },
     "execution_count": 88,
     "metadata": {},
     "output_type": "execute_result"
    }
   ],
   "source": [
    "# create 1 random points inside each polygon\n",
    "outname = \"randompoints.shp\"\n",
    "npoints = nstudents * 10\n",
    "mindistance = 100\n",
    "arcpy.management.CreateRandomPoints(out_path=outfolder, \n",
    "                                    out_name=outname, \n",
    "                                    constraining_feature_class=inpath,             \n",
    "                                    number_of_points_or_field=1, \n",
    "                                    minimum_allowed_distance= mindistance)\n",
    "\n",
    "# create n random points inside one dissovled polygon\n",
    "outname = \"dissolved_randompoints.shp\"\n",
    "npoints = nstudents * 10\n",
    "mindistance = 100\n",
    "arcpy.management.CreateRandomPoints(out_path=outfolder, \n",
    "                                    out_name=outname, \n",
    "                                    constraining_feature_class=outpath,             \n",
    "                                    number_of_points_or_field=npoints, \n",
    "                                    minimum_allowed_distance= mindistance)"
   ]
  },
  {
   "cell_type": "code",
   "execution_count": 110,
   "metadata": {},
   "outputs": [],
   "source": [
    "# outfile names\n",
    "outnames = ['vtss_hygr',\n",
    "'lclu16_wet',\n",
    "'lclu16_shr',\n",
    "'lclu16_agr',\n",
    "'rcpp_score',\n",
    "'vswi_class',\n",
    "'vswi_advis']\n",
    "\n",
    "# value_fields\n",
    "invarnames = [\n",
    "    'HyGrNum',\n",
    "    'Class_name',\n",
    "    'Class_name',\n",
    "    'Class_name',\n",
    "    'RCPP_SCORE',\n",
    "    'CLASS',\n",
    "    'CLASS']\n",
    "\n",
    "pathnames = [r'D:\\GeoData\\VT_Data_-_NRCS_Soil_Survey_Units-shp\\VT_Data_-_NRCS_Soil_Survey_Units.shp',\n",
    "r'D:\\GeoData\\LandLandcov_Wetlands2016\\LandLandcov_Wetlands2016.gdb\\Land_Wetlands2016_poly',\n",
    "r'D:\\GeoData\\LandLandcov_Shrublands2016\\LandLandcov_Shrublands2016.gdb\\Land_Shrublands2016_poly',\n",
    "r'D:\\GeoData\\LandLandcov_Agriculture2016\\LandLandcov_Agriculture2016.gdb\\Land_Agriculture2016_poly',\n",
    "r'D:\\GeoData\\VSWI\\Wetland_Restoration_Model_Site_Prioritization__Lake_Champlain_2017_-shp\\Wetland_Restoration_Model_Site_Prioritization__Lake_Champlain_2017_.shp',\n",
    "r'D:\\GeoData\\VSWI\\VSWI_Wetlands_Class_Layer-shp\\VSWI_Wetlands_Class_Layer.shp',\n",
    "r'D:\\GeoData\\VSWI\\VSWI_Wetlands_Advisory_Layer-shp\\VSWI_Wetlands_Advisory_Layer.shp']"
   ]
  },
  {
   "cell_type": "code",
   "execution_count": 112,
   "metadata": {},
   "outputs": [
    {
     "name": "stdout",
     "output_type": "stream",
     "text": [
      "0\n",
      "C:/Workspace/VTWetlands/VTWetlands/outputs/vtss_hygr.tif\n",
      "task failed\n",
      " outpath exists: True\n",
      "1\n",
      "C:/Workspace/VTWetlands/VTWetlands/outputs/lclu16_wet.tif\n",
      "task failed\n",
      " outpath exists: True\n",
      "2\n",
      "C:/Workspace/VTWetlands/VTWetlands/outputs/lclu16_shr.tif\n",
      "task failed\n",
      " outpath exists: True\n",
      "3\n",
      "C:/Workspace/VTWetlands/VTWetlands/outputs/lclu16_agr.tif\n",
      "task failed\n",
      " outpath exists: True\n",
      "4\n",
      "C:/Workspace/VTWetlands/VTWetlands/outputs/rcpp_score.tif\n",
      "task failed\n",
      " outpath exists: True\n",
      "5\n",
      "C:/Workspace/VTWetlands/VTWetlands/outputs/vswi_class.tif\n",
      "task failed\n",
      " outpath exists: False\n",
      "6\n",
      "C:/Workspace/VTWetlands/VTWetlands/outputs/vswi_advis.tif\n",
      "task failed\n",
      " outpath exists: False\n"
     ]
    }
   ],
   "source": [
    "for i in range(len(pathnames)):\n",
    "    print(i)\n",
    "    in_features=pathnames[i]\n",
    "    value_field=invarnames[i]\n",
    "    out_rasterdataset=outfolder+outnames[i]+\".tif\"\n",
    "    print(out_rasterdataset)\n",
    "    try:\n",
    "        arcpy.conversion.PolygonToRaster(in_features,\n",
    "                                     value_field,\n",
    "                                     out_rasterdataset)\n",
    "                                     #build_rat = \"BUILD\")\n",
    "        print(\"task complete\",os.path.exists(out_rasterdataset))\n",
    "    except:\n",
    "        print(\"task failed\\n outpath exists:\",os.path.exists(out_rasterdataset))"
   ]
  },
  {
   "cell_type": "code",
   "execution_count": 115,
   "metadata": {},
   "outputs": [
    {
     "name": "stdout",
     "output_type": "stream",
     "text": [
      "['CDL_2008_clip_20201002155541_287304339.tif', 'CDL_2009_clip_20201002155541_287304339.tif', 'CDL_2010_clip_20201002155541_287304339.tif', 'CDL_2011_clip_20201002155541_287304339.tif', 'CDL_2012_clip_20201002155541_287304339.tif', 'CDL_2013_clip_20201002155541_287304339.tif', 'CDL_2014_clip_20201002155541_287304339.tif', 'CDL_2015_clip_20201002155541_287304339.tif', 'CDL_2016_clip_20201002155541_287304339.tif', 'CDL_2017_clip_20201002155541_287304339.tif', 'CDL_2018_clip_20201002155541_287304339.tif', 'CDL_2019_clip_20201002155541_287304339.tif']\n",
      "['LandLandcov_BaseLC2016.tif']\n",
      "['lclu16_agr.tif', 'lclu16_shr.tif', 'lclu16_wet.tif', 'rcpp_score.tif', 'vtss_hygr.tif']\n"
     ]
    },
    {
     "data": {
      "text/plain": [
       "()"
      ]
     },
     "execution_count": 115,
     "metadata": {},
     "output_type": "execute_result"
    }
   ],
   "source": [
    "# extract values from list of rasters at points\n",
    "def arcpy_globExtractMultiValues2Points(inpath,globsearch,inpoints):\n",
    "    os.chdir(inpath)\n",
    "    inrasters = glob.glob(globsearch)\n",
    "    print(inrasters)\n",
    "    arcpy.sa.ExtractMultiValuesToPoints(inpoints,inrasters)\n",
    "    return()\n",
    "inpoints = outfolder + outname\n",
    "arcpy_globExtractMultiValues2Points(inpath=\"D:/GeoData/Cropscape_VT\",\n",
    "                                    globsearch=\"*.tif\",\n",
    "                                    inpoints=inpoints)\n",
    "arcpy_globExtractMultiValues2Points(inpath='D:\\\\GeoData\\\\LandLandcov_BaseLC2016\\\\',\n",
    "                                    globsearch=\"*.tif\",\n",
    "                                    inpoints=inpoints)\n",
    "os.chdir(wd)\n",
    "arcpy_globExtractMultiValues2Points(inpath=outfolder,\n",
    "                                    globsearch=\"*.tif\",\n",
    "                                    inpoints=inpoints)"
   ]
  },
  {
   "cell_type": "code",
   "execution_count": 114,
   "metadata": {},
   "outputs": [
    {
     "name": "stdout",
     "output_type": "stream",
     "text": [
      "C:/Workspace/VTWetlands/VTWetlands/outputs/randompoints.shp\n"
     ]
    }
   ],
   "source": [
    "# remove overlapping points\n",
    "https://pro.arcgis.com/en/pro-app/latest/tool-reference/data-management/select-layer-by-location.htm"
   ]
  },
  {
   "cell_type": "code",
   "execution_count": null,
   "metadata": {},
   "outputs": [],
   "source": []
  }
 ],
 "metadata": {
  "kernelspec": {
   "display_name": "ArcGISPro",
   "language": "Python",
   "name": "python3"
  },
  "language_info": {
   "file_extension": ".py",
   "name": "python",
   "version": "3"
  }
 },
 "nbformat": 4,
 "nbformat_minor": 2
}
