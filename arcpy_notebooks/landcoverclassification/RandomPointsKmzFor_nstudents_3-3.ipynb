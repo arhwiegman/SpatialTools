{
 "cells": [
  {
   "cell_type": "code",
   "execution_count": 1,
   "metadata": {},
   "outputs": [
    {
     "name": "stdout",
     "output_type": "stream",
     "text": [
      "C:/workspace\n"
     ]
    }
   ],
   "source": [
    "# setup work space\n",
    "import arcpy\n",
    "\n",
    "# Set environment settings\n",
    "arcpy.env.workspace = \"C:/workspace/\"\n",
    "print(arcpy.env.workspace)\n",
    "outfolder = \"C:/workspace/myproject/MyProject/Outputs/\"\n"
   ]
  },
  {
   "cell_type": "code",
   "execution_count": 2,
   "metadata": {},
   "outputs": [
    {
     "name": "stdout",
     "output_type": "stream",
     "text": [
      "VT_Data_-_County_Boundaries/VT_Data_-_County_Boundaries.shp\n"
     ]
    }
   ],
   "source": [
    "# declare function arguments\n",
    "infolder = \"VT_Data_-_County_Boundaries/\"\n",
    "infeatures = \"VT_Data_-_County_Boundaries.shp\"\n",
    "inpath = infolder + infeatures\n",
    "print(inpath)\n",
    "outfeatures = \"Dissolved.shp\"\n",
    "outpath = outfolder + outfeatures"
   ]
  },
  {
   "cell_type": "code",
   "execution_count": 6,
   "metadata": {
    "scrolled": false
   },
   "outputs": [
    {
     "data": {
      "text/html": [
       "<h2>Output</h2>C:\\workspace\\myproject\\MyProject\\Outputs\\Dissolved.shp<h2>Messages</h2>Start Time: Wednesday, March 3, 2021 10:49:21 AM<br/>Dissolving...<br/>Succeeded at Wednesday, March 3, 2021 10:49:21 AM (Elapsed Time: 0.26 seconds)<br/><style>.rendered_html td, .rendered_html th {text-align: left;}.rendered_html tbody {border: 1px solid black;}</style>"
      ],
      "text/plain": [
       "<Result 'C:\\\\workspace\\\\myproject\\\\MyProject\\\\Outputs\\\\Dissolved.shp'>"
      ]
     },
     "execution_count": 6,
     "metadata": {},
     "output_type": "execute_result"
    }
   ],
   "source": [
    "# run dissolve function\n",
    "arcpy.Dissolve_management (inpath, outpath)"
   ]
  },
  {
   "cell_type": "code",
   "execution_count": 7,
   "metadata": {},
   "outputs": [
    {
     "name": "stdout",
     "output_type": "stream",
     "text": [
      "C:/workspace/myproject/MyProject/Outputs/Dissolved.shp\n"
     ]
    }
   ],
   "source": [
    "print(outpath)"
   ]
  },
  {
   "cell_type": "code",
   "execution_count": 8,
   "metadata": {},
   "outputs": [
    {
     "ename": "ExecuteError",
     "evalue": "ERROR 000258: Output C:/workspace/myproject/MyProject/Outputs\\randompoints.shp already exists\nFailed to execute (CreateRandomPoints).\n",
     "output_type": "error",
     "traceback": [
      "\u001b[0;31m---------------------------------------------------------------------------\u001b[0m\n\u001b[0;31mExecuteError\u001b[0m                              Traceback (most recent call last)",
      "In  \u001b[0;34m[8]\u001b[0m:\nLine \u001b[0;34m11\u001b[0m:    minimum_allowed_distance= mindistance) \n",
      "File \u001b[0;34mc:\\program files\\arcgis\\pro\\Resources\\arcpy\\arcpy\\management.py\u001b[0m, in \u001b[0;32mCreateRandomPoints\u001b[0m:\nLine \u001b[0;34m19716\u001b[0m: \u001b[34mraise\u001b[39;49;00m e\n",
      "File \u001b[0;34mc:\\program files\\arcgis\\pro\\Resources\\arcpy\\arcpy\\management.py\u001b[0m, in \u001b[0;32mCreateRandomPoints\u001b[0m:\nLine \u001b[0;34m19713\u001b[0m: retval = convertArcObjectToPythonObject(gp.CreateRandomPoints_management(*gp_fixargs((out_path, out_name, constraining_feature_class, constraining_extent, number_of_points_or_field, minimum_allowed_distance, create_multipoint_output, multipoint_size), \u001b[34mTrue\u001b[39;49;00m)))\n",
      "File \u001b[0;34mc:\\program files\\arcgis\\pro\\Resources\\arcpy\\arcpy\\geoprocessing\\_base.py\u001b[0m, in \u001b[0;32m<lambda>\u001b[0m:\nLine \u001b[0;34m511\u001b[0m:   \u001b[34mreturn\u001b[39;49;00m \u001b[34mlambda\u001b[39;49;00m *args: val(*gp_fixargs(args, \u001b[34mTrue\u001b[39;49;00m))\n",
      "\u001b[0;31mExecuteError\u001b[0m: ERROR 000258: Output C:/workspace/myproject/MyProject/Outputs\\randompoints.shp already exists\nFailed to execute (CreateRandomPoints).\n\n\u001b[0;31m---------------------------------------------------------------------------\u001b[0m"
     ]
    }
   ],
   "source": [
    "# create random points inside polygon\n",
    "infeature = outpath\n",
    "nstudents = 71\n",
    "npoints = nstudents * 10\n",
    "mindistance = 100\n",
    "arcpy.management.CreateRandomPoints(out_path=outfolder, \n",
    "                                    out_name=\"randompoints.shp\", \n",
    "                                    constraining_feature_class=infeature, \n",
    "                     \n",
    "                                    number_of_points_or_field=npoints, \n",
    "                                    minimum_allowed_distance= mindistance) \n",
    "                                \n",
    "                               "
   ]
  },
  {
   "cell_type": "code",
   "execution_count": 9,
   "metadata": {},
   "outputs": [
    {
     "ename": "ExecuteError",
     "evalue": "Failed to execute. Parameters are not valid.\nERROR 000860: Input point features: is not the type of Composite Geodataset, or does not exist.\nFailed to execute (ExtractMultiValuesToPoints).\n",
     "output_type": "error",
     "traceback": [
      "\u001b[0;31m---------------------------------------------------------------------------\u001b[0m\n\u001b[0;31mExecuteError\u001b[0m                              Traceback (most recent call last)",
      "In  \u001b[0;34m[9]\u001b[0m:\nLine \u001b[0;34m5\u001b[0m:     in_rasters= infile) \n",
      "File \u001b[0;34mc:\\program files\\arcgis\\pro\\Resources\\arcpy\\arcpy\\sa\\Functions.py\u001b[0m, in \u001b[0;32mExtractMultiValuesToPoints\u001b[0m:\nLine \u001b[0;34m3886\u001b[0m:  bilinear_interpolate_values)\n",
      "File \u001b[0;34mc:\\program files\\arcgis\\pro\\Resources\\arcpy\\arcpy\\sa\\Utils.py\u001b[0m, in \u001b[0;32mswapper\u001b[0m:\nLine \u001b[0;34m53\u001b[0m:    result = wrapper(*args, **kwargs)\n",
      "File \u001b[0;34mc:\\program files\\arcgis\\pro\\Resources\\arcpy\\arcpy\\sa\\Functions.py\u001b[0m, in \u001b[0;32mWrapper\u001b[0m:\nLine \u001b[0;34m3881\u001b[0m:  bilinear_interpolate_values)\n",
      "File \u001b[0;34mc:\\program files\\arcgis\\pro\\Resources\\arcpy\\arcpy\\geoprocessing\\_base.py\u001b[0m, in \u001b[0;32m<lambda>\u001b[0m:\nLine \u001b[0;34m511\u001b[0m:   \u001b[34mreturn\u001b[39;49;00m \u001b[34mlambda\u001b[39;49;00m *args: val(*gp_fixargs(args, \u001b[34mTrue\u001b[39;49;00m))\n",
      "\u001b[0;31mExecuteError\u001b[0m: Failed to execute. Parameters are not valid.\nERROR 000860: Input point features: is not the type of Composite Geodataset, or does not exist.\nFailed to execute (ExtractMultiValuesToPoints).\n\n\u001b[0;31m---------------------------------------------------------------------------\u001b[0m"
     ]
    }
   ],
   "source": [
    "# extract values at points \n",
    "infile = \"C:/workspace/geodata/geodata/LandCover/LandLandcov_BaseLC2016/LandLandcov_BaseLC2016.tif\"\n",
    "inpoints = outfolder + \"randompoints.shp\"\n",
    "arcpy.sa.ExtractMultiValuesToPoints(in_point_features= inpoints, \n",
    "                           in_rasters= infile) \n",
    "                       "
   ]
  },
  {
   "cell_type": "code",
   "execution_count": null,
   "metadata": {},
   "outputs": [],
   "source": [
    "# select by attribute using rolling window for FID\n",
    "inlayer = inpoints\n",
    "\n",
    "arcpy.management.SelectLayerByAttribute(in_layer_or_view=inlayer,\n",
    "                                        selection_type=\"SUBSET_SELECTION\", \n",
    "                                        where_clause=\"FID > 0 And FID <= 10\") \n",
    "                                     "
   ]
  },
  {
   "cell_type": "code",
   "execution_count": null,
   "metadata": {},
   "outputs": [],
   "source": [
    "arcpy.management.SelectLayerByAttribute(in_layer_or_view=inlayer,\n",
    "                                        selection_type=\"SUBSET_SELECTION\", \n",
    "                                        where_clause=\"FID > 10 And FID <= 20\") "
   ]
  },
  {
   "cell_type": "code",
   "execution_count": null,
   "metadata": {},
   "outputs": [],
   "source": [
    "out_kmz_file=outfolder + \"randompoints_subset1.kml\"\n",
    "print(out_kmz_file)"
   ]
  },
  {
   "cell_type": "code",
   "execution_count": null,
   "metadata": {},
   "outputs": [],
   "source": [
    "\n",
    "arcpy.conversion.LayerToKML(layer=\"randompoints_subset1\",\n",
    "                            out_kmz_file=out_kmz_file)"
   ]
  },
  {
   "cell_type": "code",
   "execution_count": null,
   "metadata": {},
   "outputs": [],
   "source": [
    "arcpy.conversion.LayerToKML(layer=\"randompoints_subset1\",\n",
    "out_kmz_file=outfolder + \"randompoints_subset1.kmz\")"
   ]
  },
  {
   "cell_type": "code",
   "execution_count": 10,
   "metadata": {},
   "outputs": [
    {
     "name": "stdout",
     "output_type": "stream",
     "text": [
      "student 1\n",
      "0 2\n",
      "FID > 0  And FID <= 2\n"
     ]
    },
    {
     "ename": "ExecuteError",
     "evalue": "Failed to execute. Parameters are not valid.\nERROR 000732: Layer Name or Table View: Dataset C:/workspace/myproject/MyProject/Outputs/randompoints.shp does not exist or is not supported\nFailed to execute (SelectLayerByAttribute).\n",
     "output_type": "error",
     "traceback": [
      "\u001b[0;31m---------------------------------------------------------------------------\u001b[0m\n\u001b[0;31mExecuteError\u001b[0m                              Traceback (most recent call last)",
      "In  \u001b[0;34m[10]\u001b[0m:\nLine \u001b[0;34m29\u001b[0m:    where_clause=sql) \n",
      "File \u001b[0;34mc:\\program files\\arcgis\\pro\\Resources\\arcpy\\arcpy\\management.py\u001b[0m, in \u001b[0;32mSelectLayerByAttribute\u001b[0m:\nLine \u001b[0;34m8754\u001b[0m:  \u001b[34mraise\u001b[39;49;00m e\n",
      "File \u001b[0;34mc:\\program files\\arcgis\\pro\\Resources\\arcpy\\arcpy\\management.py\u001b[0m, in \u001b[0;32mSelectLayerByAttribute\u001b[0m:\nLine \u001b[0;34m8751\u001b[0m:  retval = convertArcObjectToPythonObject(gp.SelectLayerByAttribute_management(*gp_fixargs((in_layer_or_view, selection_type, where_clause, invert_where_clause), \u001b[34mTrue\u001b[39;49;00m)))\n",
      "File \u001b[0;34mc:\\program files\\arcgis\\pro\\Resources\\arcpy\\arcpy\\geoprocessing\\_base.py\u001b[0m, in \u001b[0;32m<lambda>\u001b[0m:\nLine \u001b[0;34m511\u001b[0m:   \u001b[34mreturn\u001b[39;49;00m \u001b[34mlambda\u001b[39;49;00m *args: val(*gp_fixargs(args, \u001b[34mTrue\u001b[39;49;00m))\n",
      "\u001b[0;31mExecuteError\u001b[0m: Failed to execute. Parameters are not valid.\nERROR 000732: Layer Name or Table View: Dataset C:/workspace/myproject/MyProject/Outputs/randompoints.shp does not exist or is not supported\nFailed to execute (SelectLayerByAttribute).\n\n\u001b[0;31m---------------------------------------------------------------------------\u001b[0m"
     ]
    }
   ],
   "source": [
    "# change number of points per student\n",
    "start=1\n",
    "nstudents= 2\n",
    "stop= start + nstudents\n",
    "FIDmin= 0\n",
    "npoints= 2\n",
    "FIDmax= npoints+ FIDmin\n",
    "y=(npoints/2)\n",
    "inlayer = outfolder + \"randompoints.shp\"\n",
    "for x in range(start, stop): #for loop\n",
    "    print(\"student\", x)\n",
    "    FIDmin=y+FIDmin\n",
    "    if x==start :FIDmin=0 #for the first student FIDmin=0\n",
    "    FIDmax=FIDmin+npoints\n",
    "    strFIDmin=str(FIDmin)\n",
    "    strFIDmax=str(FIDmax) #converting from int to str \n",
    "    print(FIDmin, FIDmax)\n",
    "    sql=\"FID > \" +strFIDmin+\"  And FID <= \"+strFIDmax\n",
    "\n",
    "    if x==nstudents : #for the last student wrap to the first student\n",
    "        FIDmax= FIDmin + y\n",
    "        sqllow=\"FID > \" +\"0\"+\"  And FID <= \"+str(y)\n",
    "        sqlhigh=\" And FID > \" +strFIDmin+\"  And FID <= \"+str(FIDmax)\n",
    "        sql=sqllow + sqlhigh\n",
    "    print(sql)\n",
    "    # select by attribute \n",
    "    selected=arcpy.management.SelectLayerByAttribute(in_layer_or_view=inlayer,\n",
    "                                        selection_type=\"SUBSET_SELECTION\", \n",
    "                                        where_clause=sql) \n",
    "    arcpy.conversion.LayerToKML(layer=selected,\n",
    "                                out_kmz_file=outfolder + \"randompoints_Student\"+str(x)+\".kmz\")\n",
    "    arcpy.DeleteFeatures_management(selected)\n",
    "    "
   ]
  },
  {
   "cell_type": "code",
   "execution_count": null,
   "metadata": {},
   "outputs": [],
   "source": []
  }
 ],
 "metadata": {
  "kernelspec": {
   "display_name": "ArcGISPro",
   "language": "Python",
   "name": "python3"
  },
  "language_info": {
   "file_extension": ".py",
   "name": "python",
   "version": "3"
  }
 },
 "nbformat": 4,
 "nbformat_minor": 2
}
